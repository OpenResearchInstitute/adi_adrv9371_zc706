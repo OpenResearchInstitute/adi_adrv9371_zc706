{
 "cells": [
  {
   "cell_type": "markdown",
   "metadata": {},
   "source": [
    "# COBS Decoder Simulation Output Comparator\n",
    "\n",
    "This program is a companion to COBS_dec-tv-generator, which creates a list of randomly-generated frames and then generates test vectors for the COBS Decoder simulation.\n",
    "\n",
    "We read in the original randomly-generated frames data structure from the file where COBS_dec-tv-generator saved it. This file is a simple serialization (using `pickle`) of the data structure used in both programs for the variable `unencoded_frames`.\n",
    "\n",
    "We read in the simulation test results from the file where the Vivado simulation saved them. This is a text file with one row per clock cycle. Rows beginning with `--` are comments and are ignored. All other rows are expected to contain binary representations of the input and output signals of the decoder entity, where each binary digit can be 0, 1, or U for undetermined.\n",
    "\n",
    "This program simulates the simple behavior of the AXI-Stream consumer connected to the COBS decoder's output. In other words, it accepts an input byte from `m_tdata` (signal names given from the decoder's perspective) when and only when both of `m_tvalid` and `m_tready` are 1. That byte is taken to be the last byte of a frame if `m_tlast` is also 1. In this way, we easily build up the frames decoded by the simulated decoder entity.\n",
    "\n",
    "The two data structures are then compared, and a simple report generated."
   ]
  },
  {
   "cell_type": "code",
   "execution_count": null,
   "metadata": {},
   "outputs": [],
   "source": [
    "import pickle\n",
    "import re\n",
    "import sys"
   ]
  },
  {
   "cell_type": "code",
   "execution_count": null,
   "metadata": {},
   "outputs": [],
   "source": [
    "# Filenames. These should be command-line arguments.\n",
    "\n",
    "input_filename = 'COBS_dec-tv-frames-67c041aa'  # 1000-frames test that worked the first time\n",
    "simulation_filename = 'cobs-test-output.txt'"
   ]
  },
  {
   "cell_type": "code",
   "execution_count": null,
   "metadata": {},
   "outputs": [],
   "source": [
    "# Read in the input file to recreate the random frames in the test vectors\n",
    "\n",
    "with open(input_filename, \"rb\") as f:\n",
    "    input_frames = pickle.load(f)\n",
    "\n",
    "## print(f'{len(input_frames)} original frames read')"
   ]
  },
  {
   "cell_type": "code",
   "execution_count": null,
   "metadata": {},
   "outputs": [],
   "source": [
    "# Parse the simulation results file and extract frames\n",
    "\n",
    "# Fields in the simulation results file:\n",
    "#     0      1        2        3        4          5         6       7        8\n",
    "# -- rst input_data s_tlast s_tvalid s_tready output_data m_tlast m_tvalid m_tready\n",
    "\n",
    "sim_frames = []\n",
    "frame = bytearray()\n",
    "frame_line_numbers = []\n",
    "sim_frames_line_numbers = []\n",
    "line_no = 0\n",
    "\n",
    "with open(simulation_filename, \"r\") as f:\n",
    "    for line in f:\n",
    "        line_no += 1\n",
    "        fields = re.findall(\"[01U]+\", line)\n",
    "        if len(fields) != 9:\n",
    "            if not re.match(\"--\", line):\n",
    "                print(f\"Error: invalid line {line_no}: {line}\")\n",
    "            continue\n",
    "        if len(fields[5]) != 8 or len(fields[6]) != 1 or len(fields[7]) != 1 or len(fields[8]) != 1:\n",
    "            print(f\"Error: invalid field length on line {line_no}: {line}\")\n",
    "        m_tdata_binary = fields[5]\n",
    "        m_tlast = True if fields[6][0] == '1' else False\n",
    "        m_tvalid = True if fields[7][0] == '1' else False\n",
    "        m_tready = True if fields[8][0] == '1' else False\n",
    "\n",
    "        if m_tready and m_tvalid:\n",
    "            frame += bytes([int(m_tdata_binary, 2)])\n",
    "            frame_line_numbers.append(line_no)\n",
    "            if m_tlast:\n",
    "                sim_frames += [frame]\n",
    "                sim_frames_line_numbers += [frame_line_numbers]\n",
    "                # print(f\"Ending {len(frame)} byte frame at line {line_no}\")\n",
    "                frame = bytearray()\n",
    "                frame_line_numbers = []\n",
    "        "
   ]
  },
  {
   "cell_type": "code",
   "execution_count": null,
   "metadata": {},
   "outputs": [],
   "source": [
    "# Compare simulation results to original random frames\n",
    "\n",
    "match = True\n",
    "\n",
    "if len(sim_frames) != len(input_frames):\n",
    "    print(f\"Number of frames does not match. Original: {len(input_frames)} Sim: {len(sim_frames)}\")\n",
    "    match = False\n",
    "\n",
    "for frame, sim_frame, frame_line_numbers in zip(input_frames, sim_frames, sim_frames_line_numbers):\n",
    "    if len(frame) != len(sim_frame):\n",
    "        print(f\"Length of frame starting at line {frame_line_numbers[0]} is {len(sim_frame)}; should be {len(frame)}.\")\n",
    "        match = False\n",
    "    for fbyte, sbyte, lineno in zip(frame, sim_frame, frame_line_numbers):\n",
    "        if fbyte != sbyte:\n",
    "            print(f\"Byte value at line {lineno} is hex {sbyte:02x}; should be hex {fbyte:02x}\")\n",
    "            match = False\n",
    "\n",
    "if match:\n",
    "    print(f'Simulation results match original data.')\n",
    "    print(f'{len(input_frames)} frames compared.')"
   ]
  },
  {
   "cell_type": "code",
   "execution_count": null,
   "metadata": {},
   "outputs": [],
   "source": [
    "# Return success or failure to the shell\n",
    "# (This will throw an exception when run in the Jupyter notebook environment.)\n",
    "\n",
    "if match:\n",
    "    sys.exit(0)\n",
    "else:\n",
    "    sys.exit(1)"
   ]
  }
 ],
 "metadata": {
  "kernelspec": {
   "display_name": "Python 3.11.0 64-bit",
   "language": "python",
   "name": "python3"
  },
  "language_info": {
   "codemirror_mode": {
    "name": "ipython",
    "version": 3
   },
   "file_extension": ".py",
   "mimetype": "text/x-python",
   "name": "python",
   "nbconvert_exporter": "python",
   "pygments_lexer": "ipython3",
   "version": "3.11.0"
  },
  "orig_nbformat": 4,
  "vscode": {
   "interpreter": {
    "hash": "aee8b7b246df8f9039afb4144a1f6fd8d2ca17a180786b69acc140d282b71a49"
   }
  }
 },
 "nbformat": 4,
 "nbformat_minor": 2
}

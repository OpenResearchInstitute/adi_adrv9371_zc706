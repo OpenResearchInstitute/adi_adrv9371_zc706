{
 "cells": [
  {
   "cell_type": "markdown",
   "metadata": {},
   "source": [
    "# Test Vector Generator for COBS Decoder VHDL Entity\n",
    "\n",
    "The COBS decoder is a VHDL entity that takes a single AXI-Stream input, one byte wide, containing a stream of bytes encoded according to COBS, the Consistent Overhead Byte Stuffing algorithm detailed in [this IEEE/ACM Transactions on Networking paper](http://www.stuartcheshire.org/papers/cobsforton.pdf). It generates a single AXI-Stream output, also one byte wide, containing the decoded data from the input stream, and broken up into frames according to the rules of COBS.\n",
    "\n",
    "The complexity of the COBS decoder entity is mostly due to the handshaking requirements. The AXI-S input and output are designed to flow through data as it is processed. Either the data producer on the input or the data consumer on the output can require a delay in transferring the next byte. Each entity is responsible for passing through this \"back pressure\" from its output to its input, so that data is not allowed to back up without limit anywhere in the system. Both interfaces share a common clock `clk` and reset `rst`.\n",
    "\n",
    "On the input side, `s_tdata` is the byte-wide data, `s_tvalid` indicates on which rising edges of `clk` the data and other signals are valid, and `s_tready` (an output signal) indicates on which rising edges the entity is able to accept a data transfer. An additional input-related signal, `s_tlast`, indicates the last byte of a frame on the input. We rely instead on the COBS framing to break up the input stream into frames, so we ignore `s_tlast` entirely.\n",
    "\n",
    "On the output side, `m_data` is the byte-wide data, and `m_tvalid`, `m_tready`, and `m_tlast` have the corresponding meanings. The COBS decoder entity asserts `m_tlast` on the last byte of a frame as derived from the COBS framing information.\n",
    "\n",
    "We use some specific knowledge about the COBS decoder implementation to create test vectors for it.\n",
    "\n",
    "1. The COBS decoder inserts two clocks of delay between the input stream and the output stream, when both handshaking inputs (`s_tvalid` and `m_tready`) are high.\n",
    "2. The COBS decoder passes `m_tready` through to `s_tready` without any clock delays.\n",
    "\n",
    "The test vector file is constructed out of valid COBS frames, each of which starts and ends with the frame separator byte, a zero. These frames have randomly chosen lengths (within a specified range) and randomly generated contents. With some probability, garbage bytes are inserted between frames to challenge the error recovery capability of the decoder. Once this byte stream is constructed, a random set of `s_tvalid` and `m_tready` deassertion events is generated and integrated with the byte stream.\n",
    "* when `s_tvalid` is low (but `m_tready` is high) the meaning in AXI-S is that the bytes on `s_tdata` are not valid, and the arrival of the next valid input byte is delayed. To represent this, and to test the decoder's rejection of these invalid bytes, we fill `s_tdata` with random bytes.\n",
    "* when `m_tready` is low, and thus the decoder is driving `s_tready` low (but `s_tvalid` is high) the meaning in AXI-S is that the first byte offered on `s_tdata` is held steady throughout the delay, with the actual transfer not occurring until after `s_tready` is high again. To represent this accurately, we fill `s_tdata` with copies of the next byte from the data stream.\n",
    "* when `s_tvalid` is low and `s_tready` goes from high to low, the fill data remains random unless and until `s_tvalid` goes high. If `s_tready` is still low by then, the next single byte is clocked in and held until it can be clocked in, when `s_tready` is high.\n",
    "* when `s_tready` is low, a transition of `s_tvalid` from high to low is not permitted.\n",
    "\n",
    "By following all these rules, this program can generate cycle-by-cycle test vectors that correspond to the intended operation of the COBS decoder entity in an AXI-S to AXI-S instantiation. These vectors, which include `s_tdata`, `s_tvalid`, `m_tready`, and `rst`, are output to a plain text file suitable for importing into a Vivado simulation environment.\n",
    "\n",
    "The program also generates a file containing the data structure of original random unencoded frames. A separate program extracts the decoded frames from the simulation results output file, and compares them.\n",
    "\n",
    "Requires Python >= 3.9 (because of random.randbytes() at least)\n",
    "\n",
    "Developed with Python 3.11.0"
   ]
  },
  {
   "cell_type": "code",
   "execution_count": null,
   "metadata": {},
   "outputs": [],
   "source": [
    "from cobs import cobs   # https://github.com/cmcqueen/cobs-python\n",
    "import pickle\n",
    "import random"
   ]
  },
  {
   "cell_type": "code",
   "execution_count": null,
   "metadata": {},
   "outputs": [],
   "source": [
    "# Parameters for test vector generation\n",
    "# These may need to be turned into command line arguments for convenience.\n",
    "\n",
    "tv_number_of_frames = 1000\n",
    "tv_min_frame_length = 1             # bytes\n",
    "tv_max_frame_length = 275           # bytes; not realistically long, but bigger than the max COBS sequence\n",
    "# tv_max_frame_length = 10000         # bytes; bigger than the max DVB-S2 BBFRAME length\n",
    "tv_garbage_probability = 0.0        # probability per frame boundary of garbage insertion (0.0 for sim-compare-frames to work)\n",
    "tv_min_garbage_length = 1           # bytes\n",
    "tv_max_garbage_length = 30          # bytes\n",
    "tv_s_tvalid_low_probability = 0.1   # probability per byte of s_tvalid deassertion\n",
    "tv_s_tvalid_max_cycles = 10         # maximum length of s_tvalid deassertion\n",
    "tv_m_tready_low_probability = 0.1   # probability per byte of m_tready deassertion\n",
    "tv_m_tready_max_cycles = 10         # maximum length of m_tready deassertion"
   ]
  },
  {
   "cell_type": "code",
   "execution_count": null,
   "metadata": {},
   "outputs": [],
   "source": [
    "# Seed the random number generator. The seed becomes a filename tag for reproducibility.\n",
    "seed = random.getrandbits(32)\n",
    "# seed = 0xe6f1308e  # override seed to regenerate a previous run\n",
    "random.seed(seed)\n",
    "\n",
    "seed_tag = f\"{seed:08x}\"\n",
    "tv_frames_filename = f\"COBS_dec-tv-frames-{seed_tag}\"\n",
    "tv_vectors_filename = f\"COBS_dec-tv-in-{seed_tag}\"\n"
   ]
  },
  {
   "cell_type": "code",
   "execution_count": null,
   "metadata": {},
   "outputs": [],
   "source": [
    "# Build a list of random unencoded frames\n",
    "\n",
    "unencoded_frames = []\n",
    "for _ in range(0, tv_number_of_frames):\n",
    "    length = random.randint(tv_min_frame_length, tv_max_frame_length)\n",
    "    data = random.randbytes(length)\n",
    "    unencoded_frames += [data]\n",
    "    print(f\"Encoded frame length={length}\\n{data.hex(' ')}\")\n"
   ]
  },
  {
   "cell_type": "code",
   "execution_count": null,
   "metadata": {},
   "outputs": [],
   "source": [
    "# Save the original random unencoded frames for comparison with simulation results\n",
    "\n",
    "with open(tv_frames_filename, \"wb\") as f:\n",
    "    pickle.dump(unencoded_frames, f)"
   ]
  },
  {
   "cell_type": "code",
   "execution_count": null,
   "metadata": {},
   "outputs": [],
   "source": [
    "# Build encoded data stream (before handshaking)\n",
    "\n",
    "encoded_bytes = bytearray()\n",
    "\n",
    "for frame in unencoded_frames:\n",
    "    encoded_bytes += b\"\\0\"\n",
    "    encoded_frame = cobs.encode(frame)\n",
    "    encoded_bytes += encoded_frame\n",
    "\n",
    "    print(f\"COBS frame length={len(encoded_frame)} count={encoded_frame[0]} \\n{encoded_frame.hex(' ')}\")\n",
    "\n",
    "    if random.random() < tv_garbage_probability:\n",
    "        garbage_length = random.randint(tv_min_garbage_length, tv_max_garbage_length)\n",
    "        garbage_bytes = random.randbytes(garbage_length)\n",
    "        encoded_bytes += garbage_bytes\n",
    "        print(f\"Garbage length={garbage_length}\\n{garbage_bytes.hex(' ')}\")\n",
    "\n",
    "encoded_bytes += b\"\\0\"\n"
   ]
  },
  {
   "cell_type": "code",
   "execution_count": null,
   "metadata": {},
   "outputs": [],
   "source": [
    "# Build encoded data stream with handshaking\n",
    "\n",
    "# These will be our eventual test vector outputs\n",
    "s_tdata = bytearray()   # copy of the encoded data stream, with handshaking adjustments\n",
    "s_tvalid = bytearray()  # value of the s_tvalid signal as generated\n",
    "m_tready = bytearray()  # value of the m_tready (== s_tready) signal as generated\n",
    "\n",
    "# counts of remaining low cycles of handshaking signals\n",
    "s_tvalid_count = 0\n",
    "m_tready_count = 0\n",
    "\n",
    "# first byte (a zero) gets a pass on handshaking\n",
    "s_tdata += b\"\\0\"\n",
    "s_tvalid += bytes([1])\n",
    "m_tready += bytes([1])\n",
    "\n",
    "# Now pass through all the encoded bytes, inserting handshaking as generated\n",
    "for ebyte in encoded_bytes[1:]:\n",
    "    # if handshaking not already happening, see if it needs to start on each signal:\n",
    "    if s_tvalid_count == 0 and m_tready_count == 0:\n",
    "        if random.random() < tv_s_tvalid_low_probability:\n",
    "            s_tvalid_count = random.randint(1, tv_s_tvalid_max_cycles)\n",
    "    if m_tready_count == 0:\n",
    "        if random.random() < tv_m_tready_low_probability:\n",
    "            m_tready_count = random.randint(1, tv_m_tready_max_cycles)\n",
    "\n",
    "    # insert cycles as long as handshaking line(s) deasserted\n",
    "    while s_tvalid_count > 0 or m_tready_count > 0:\n",
    "        if s_tvalid_count > 0:\n",
    "            s_tvalid_count -= 1\n",
    "            s_tdata += random.randbytes(1)  # with s_tvalid low, s_tdata is indeterminate\n",
    "            s_tvalid += b\"\\0\"\n",
    "            m_tready += b\"\\0\" if m_tready_count > 0 else b\"\\1\"\n",
    "        else:  # m_tready_count > 0\n",
    "            m_tready_count -= 1\n",
    "            s_tdata += bytes([ebyte])  # with s_tready low but s_tvalid high, s_tdata freezes\n",
    "            s_tvalid += b\"\\1\"\n",
    "            m_tready += b\"\\0\"\n",
    "\n",
    "    # handshaking signals are both high now, carry on\n",
    "    s_tdata += bytes([ebyte])\n",
    "    s_tvalid += b\"\\1\"\n",
    "    m_tready += b\"\\1\"\n",
    "\n",
    "# a few cycles for things to settle down a bit\n",
    "s_tdata += b\"\\0\"\n",
    "s_tvalid += bytes([1])\n",
    "m_tready += bytes([1])\n",
    "\n",
    "s_tdata += b\"\\0\"\n",
    "s_tvalid += bytes([1])\n",
    "m_tready += bytes([1])\n",
    "\n",
    "s_tdata += b\"\\0\"\n",
    "s_tvalid += bytes([1])\n",
    "m_tready += bytes([1])"
   ]
  },
  {
   "cell_type": "code",
   "execution_count": null,
   "metadata": {},
   "outputs": [],
   "source": [
    "# Now emit the test vectors file\n",
    "with open(tv_vectors_filename, \"w\") as f:\n",
    "    print(\"0 0 0 1\", file=f)  # start with a reset cycle\n",
    "    for a, b, c in zip(s_tdata, s_tvalid, m_tready):\n",
    "        print(a, b, c, 0, file=f)\n"
   ]
  }
 ],
 "metadata": {
  "kernelspec": {
   "display_name": "Python 3.11.0 64-bit",
   "language": "python",
   "name": "python3"
  },
  "language_info": {
   "codemirror_mode": {
    "name": "ipython",
    "version": 3
   },
   "file_extension": ".py",
   "mimetype": "text/x-python",
   "name": "python",
   "nbconvert_exporter": "python",
   "pygments_lexer": "ipython3",
   "version": "3.11.0"
  },
  "orig_nbformat": 4,
  "vscode": {
   "interpreter": {
    "hash": "aee8b7b246df8f9039afb4144a1f6fd8d2ca17a180786b69acc140d282b71a49"
   }
  }
 },
 "nbformat": 4,
 "nbformat_minor": 2
}

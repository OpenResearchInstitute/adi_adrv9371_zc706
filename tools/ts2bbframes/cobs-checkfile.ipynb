{
 "cells": [
  {
   "cell_type": "markdown",
   "metadata": {},
   "source": [
    "# COBS File Analyzer for BBFRAMEs"
   ]
  },
  {
   "cell_type": "code",
   "execution_count": 91,
   "metadata": {},
   "outputs": [],
   "source": [
    "from cobs import cobs   # https://github.com/cmcqueen/cobs-python\n",
    "\n",
    "bbf_fname = 'bbc/test.bbc'\n",
    "a_fname = 'analyze/test.txt'"
   ]
  },
  {
   "cell_type": "code",
   "execution_count": 92,
   "metadata": {},
   "outputs": [],
   "source": [
    "def add_to_histogram(hist, key):\n",
    "    if key in hist:\n",
    "        hist[key] += 1\n",
    "    else:\n",
    "        hist[key] = 1\n",
    "\n",
    "def report_histogram(hist, file, title):\n",
    "    print(title, file=file)\n",
    "    print('='*len(title), file=file)\n",
    "    for (k,v) in hist.items():\n",
    "        print(f'{k}   {v}', file=file)\n",
    "    print('', file=file)"
   ]
  },
  {
   "cell_type": "code",
   "execution_count": 93,
   "metadata": {},
   "outputs": [],
   "source": [
    "modewords = dict()      # key = modeword as bytes, value = count\n",
    "framelengths = dict()   # key = frame length in bytes, value = count\n",
    "\n",
    "def analyze_modeword_bbframe(buf, offset):\n",
    "    # print(f\"BBFRAME at offset {offset} length {len(buf)}\")\n",
    "    add_to_histogram(modewords, buf[0:4])\n",
    "    add_to_histogram(framelengths, len(buf) - 4)"
   ]
  },
  {
   "cell_type": "code",
   "execution_count": 94,
   "metadata": {},
   "outputs": [],
   "source": [
    "frame_count = 0\n",
    "with open(bbf_fname, 'rb') as f:\n",
    "    buf = f.read()\n",
    "    start = 1   # skip over the extra framing byte at the beginning for cleaner histograms\n",
    "    for end in range(1, len(buf)):\n",
    "        if buf[end] == 0:\n",
    "            analyze_modeword_bbframe(cobs.decode(buf[start:end])[:-1], offset=start)\n",
    "            start = end + 1\n",
    "            frame_count += 1\n",
    "\n",
    "with open(a_fname, 'w') as of:\n",
    "    print(f'Found {frame_count} frames in {len(buf)} bytes.\\n', file=of)\n",
    "    report_histogram(modewords, of, 'Modeword Histogram')\n",
    "    report_histogram(framelengths, of, 'Frame Length Histogram')"
   ]
  }
 ],
 "metadata": {
  "kernelspec": {
   "display_name": "Python 3.10.5 64-bit",
   "language": "python",
   "name": "python3"
  },
  "language_info": {
   "codemirror_mode": {
    "name": "ipython",
    "version": 3
   },
   "file_extension": ".py",
   "mimetype": "text/x-python",
   "name": "python",
   "nbconvert_exporter": "python",
   "pygments_lexer": "ipython3",
   "version": "3.10.5"
  },
  "orig_nbformat": 4,
  "vscode": {
   "interpreter": {
    "hash": "aee8b7b246df8f9039afb4144a1f6fd8d2ca17a180786b69acc140d282b71a49"
   }
  }
 },
 "nbformat": 4,
 "nbformat_minor": 2
}

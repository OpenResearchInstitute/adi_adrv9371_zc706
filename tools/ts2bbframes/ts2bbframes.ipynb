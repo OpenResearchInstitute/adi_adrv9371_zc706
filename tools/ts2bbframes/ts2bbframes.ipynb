{
 "cells": [
  {
   "cell_type": "markdown",
   "metadata": {},
   "source": [
    "# Convert a TS file into a file of BBFRAMES"
   ]
  },
  {
   "cell_type": "code",
   "execution_count": null,
   "metadata": {},
   "outputs": [],
   "source": [
    "ts_fname = 'ts/QPSK-1-4-3.6588.ts'\n",
    "bbf_fname = 'bbf/QPSK-1-4-3.6588.bbf'\n",
    "ts_frame_length = 188\n",
    "bbframe_length_bits = 3072    # K(bch) from Table 5b in ETSI EN 302 307 (DVB-S2)\n",
    "bbframe_payload_length = (bbframe_length_bits - 80) // 8 # in bytes"
   ]
  },
  {
   "cell_type": "code",
   "execution_count": null,
   "metadata": {},
   "outputs": [],
   "source": [
    "# Compute CRC-8 according to 5.1.4 of DVB-S2 Spec\n",
    "def crc8_dvb_s2(crc, a):\n",
    "    crc ^= a\n",
    "    for _ in range(8):\n",
    "        if crc & 0x80:\n",
    "            crc = ((crc << 1) ^ 0xD5) % 256\n",
    "        else:\n",
    "            crc = (crc << 1) % 256\n",
    "    return crc\n",
    "\n",
    "def compute_crc8(buf: bytes) -> bytes:\n",
    "    crc = 0\n",
    "    for b in buf:\n",
    "        crc = crc8_dvb_s2(crc, b)\n",
    "    return crc.to_bytes(1, \"big\")"
   ]
  },
  {
   "cell_type": "code",
   "execution_count": null,
   "metadata": {},
   "outputs": [],
   "source": [
    "# Read the TS file and yield up each TS packet as a bytes\n",
    "# Keeping some statistics along the way.\n",
    "\n",
    "def ts_file_reader(fn):\n",
    "    count = 0\n",
    "    stuffing = 0\n",
    "    payload_units = 0\n",
    "    pids_seen = set()\n",
    "\n",
    "    with open(fn, 'rb') as f:\n",
    "        print(f\"File {fn}\")\n",
    "        while tsframe := f.read(ts_frame_length):\n",
    "            count += 1\n",
    "            pu = bool(tsframe[1] & 0x40)\n",
    "            if pu:\n",
    "                payload_units += 1\n",
    "            pid = (tsframe[1] & 0x1f) << 8 + tsframe[2]\n",
    "            pids_seen.add(pid)\n",
    "            if pid == 0x1fff:\n",
    "                stuffing += 1\n",
    "            #if count < 10:\n",
    "            #    print(f'{chr(tsframe[0])} {pid} {tsframe[3]:x} {(\" \", \"*\")[pu]}')\n",
    "            yield tsframe\n",
    "        print(f'{count} packets = {count*ts_frame_length} bytes read.')\n",
    "        print(f'including {stuffing} stuffing packets')\n",
    "        print(f'{payload_units} payload units')\n",
    "        print(f'PIDs seen: {pids_seen}')"
   ]
  },
  {
   "cell_type": "code",
   "execution_count": null,
   "metadata": {},
   "outputs": [],
   "source": [
    "# Combine TS packets into BBFRAME payloads and yield them as bytes\n",
    "# TS packets are sliced between two consecutive payloads when they don't fit.\n",
    "#\n",
    "# We return a tuple containing the payload and the offset into the payload where\n",
    "# the first full TS packet starts, as required for the BBHeader SYNCD field.\n",
    "\n",
    "def bb_payload_builder(fn: str, payload_length: int):\n",
    "    ts_packet = ts_file_reader(fn)\n",
    "    bbframe_count = 0\n",
    "\n",
    "    remaining_bytes = b''\n",
    "    payload = b''\n",
    "    syncd = 0\n",
    "    previous_crc = b'\\00'\n",
    "\n",
    "    for tsp in ts_packet:\n",
    "        assert tsp[0] == 0x47, \"Out of sync with TS packets\"\n",
    "        payload += previous_crc\n",
    "        payload += tsp[1:]      # Previous TS packet's CRC replaces the first (sync) byte\n",
    "        if len(payload) >= payload_length:\n",
    "            bbframe_count += 1\n",
    "            yield (payload[:payload_length], syncd)\n",
    "            remaining_bytes = payload[payload_length:]\n",
    "            syncd = len(remaining_bytes)\n",
    "            payload = remaining_bytes\n",
    "        previous_crc = compute_crc8(tsp[1:])    # CRC omits the first (sync) byte per 5.1.4 text\n",
    "\n",
    "    if len(payload) > 0:\n",
    "        payload += b'\\00' * (payload_length - len(payload))   # pad last payload to length\n",
    "        bbframe_count += 1\n",
    "        yield (payload, syncd)  # SYNCD points to the padding if we have no whole TS packets\n",
    "    \n",
    "    print(f'{bbframe_count} BBFRAME payloads generated')"
   ]
  },
  {
   "cell_type": "code",
   "execution_count": null,
   "metadata": {},
   "outputs": [],
   "source": [
    "# Create BBHeader according to Table 4 of DVB-S2 Spec\n",
    "\n",
    "# The DFL field for the last BBFRAME of a broadcast is poorly specified.\n",
    "# Table 4 implies it should still be set to Kbch-80, but the semantics\n",
    "# suggest that value should be reduced by the length of the padding.\n",
    "# But 5.2.1 says \"no padding shall be applied\" for Broadcast Service\n",
    "# applications, probably because they assume broadcasts never end.\n",
    "\n",
    "def make_bbheader(Kbch: int, rolloff: int, syncd: int) -> bytes:\n",
    "    header = bytearray(10)\n",
    "\n",
    "    header[0] = 0xf0 | (rolloff & 0x03) # TS, Single, CCM, no ISSY, no NPD\n",
    "    header[1] = 0   # not used\n",
    "    header[2] = (188 * 8) >> 8      # UPL in bits\n",
    "    header[3] = (188 * 8) & 0xff\n",
    "    header[4] = (Kbch - 80) >> 8    # DFL in bits\n",
    "    header[5] = (Kbch - 80) & 0xff\n",
    "    header[6] = 0x47                # Sync word \"copied\" from the TS packet\n",
    "    header[7] = (syncd * 8) >> 8    # SYNCD in bits\n",
    "    header[8] = (syncd * 8) & 0xff\n",
    "    header[9] = compute_crc8(header[:9])[0]\n",
    "\n",
    "    return header"
   ]
  },
  {
   "cell_type": "code",
   "execution_count": null,
   "metadata": {},
   "outputs": [],
   "source": [
    "dummy_mode_word = b'\\xaa\\xbb\\xcd\\xef'\n",
    "\n",
    "with open(bbf_fname, 'wb') as f:\n",
    "    payloads = bb_payload_builder(ts_fname, bbframe_payload_length)\n",
    "\n",
    "    for (payload, syncd) in payloads:\n",
    "        f.write(dummy_mode_word)\n",
    "        header = make_bbheader(bbframe_length_bits, 0x0, syncd)\n",
    "        f.write(header)\n",
    "        f.write(payload)\n",
    "\n",
    "print(f'Wrote {bbf_fname}')"
   ]
  },
  {
   "cell_type": "markdown",
   "metadata": {},
   "source": [
    "Todo:\n",
    "* code review\n"
   ]
  },
  {
   "cell_type": "markdown",
   "metadata": {},
   "source": [
    "### Notes\n",
    "\n",
    "The output of this notebook has been compared to the output of GNU Radio's BBheader block, and it matches for the cases tested."
   ]
  }
 ],
 "metadata": {
  "kernelspec": {
   "display_name": "Python 3.10.5 64-bit",
   "language": "python",
   "name": "python3"
  },
  "language_info": {
   "codemirror_mode": {
    "name": "ipython",
    "version": 3
   },
   "file_extension": ".py",
   "mimetype": "text/x-python",
   "name": "python",
   "nbconvert_exporter": "python",
   "pygments_lexer": "ipython3",
   "version": "3.10.5"
  },
  "orig_nbformat": 4,
  "vscode": {
   "interpreter": {
    "hash": "aee8b7b246df8f9039afb4144a1f6fd8d2ca17a180786b69acc140d282b71a49"
   }
  }
 },
 "nbformat": 4,
 "nbformat_minor": 2
}

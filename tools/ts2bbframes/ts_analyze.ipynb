{
 "cells": [
  {
   "cell_type": "markdown",
   "metadata": {},
   "source": [
    "# Analyze a TS file"
   ]
  },
  {
   "cell_type": "code",
   "execution_count": null,
   "metadata": {},
   "outputs": [],
   "source": [
    "fname = 'ts/QPSK-1-4-3.6588.ts'\n",
    "ts_frame_length = 188"
   ]
  },
  {
   "cell_type": "code",
   "execution_count": null,
   "metadata": {},
   "outputs": [],
   "source": [
    "count = 0\n",
    "stuffing = 0\n",
    "payload_units = 0\n",
    "pids_seen = set()\n",
    "\n",
    "with open(fname, 'rb') as f:\n",
    "    print(f\"File {fname}\")\n",
    "    while tsframe := f.read(ts_frame_length):\n",
    "        count += 1\n",
    "        pu = bool(tsframe[1] & 0x40)\n",
    "        if pu:\n",
    "            payload_units += 1\n",
    "        pid = (tsframe[1] & 0x1f) << 8 + tsframe[2]\n",
    "        pids_seen.add(pid)\n",
    "        if pid == 0x1fff:\n",
    "            stuffing += 1\n",
    "        if count < 10:\n",
    "            print(f'{chr(tsframe[0])} {pid} {tsframe[3]:x} {(\" \", \"*\")[pu]}')\n",
    "    print(f'{count} packets = {count*ts_frame_length} bytes read.')\n",
    "    print(f'including {stuffing} stuffing packets')\n",
    "    print(f'{payload_units} payload units')\n",
    "    print(f'PIDs seen: {pids_seen}')"
   ]
  },
  {
   "cell_type": "code",
   "execution_count": null,
   "metadata": {},
   "outputs": [],
   "source": []
  }
 ],
 "metadata": {
  "kernelspec": {
   "display_name": "Python 3.10.5 64-bit",
   "language": "python",
   "name": "python3"
  },
  "language_info": {
   "codemirror_mode": {
    "name": "ipython",
    "version": 3
   },
   "file_extension": ".py",
   "mimetype": "text/x-python",
   "name": "python",
   "nbconvert_exporter": "python",
   "pygments_lexer": "ipython3",
   "version": "3.10.5"
  },
  "orig_nbformat": 4,
  "vscode": {
   "interpreter": {
    "hash": "aee8b7b246df8f9039afb4144a1f6fd8d2ca17a180786b69acc140d282b71a49"
   }
  }
 },
 "nbformat": 4,
 "nbformat_minor": 2
}
